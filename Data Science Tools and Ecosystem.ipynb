{
 "cells": [
  {
   "cell_type": "markdown",
   "id": "6bc776e0-57e9-4dab-bd0c-251bc14efb24",
   "metadata": {},
   "source": [
    "# Data Science Tools and Ecosystem"
   ]
  },
  {
   "cell_type": "markdown",
   "id": "c8206658-ad6b-4d72-a7d6-4702cc8f2929",
   "metadata": {},
   "source": [
    "In this notebook, Data Science Tools and Ecosystem are summarized.\r\n"
   ]
  },
  {
   "cell_type": "markdown",
   "id": "9b2bbf80-51f0-460b-910f-062bcf400905",
   "metadata": {},
   "source": [
    "Some of the popular languages that Data Scientists use are:\n",
    "1. Python\n",
    "2. R\n",
    "3. SQL"
   ]
  },
  {
   "cell_type": "markdown",
   "id": "3cb58446-6f81-4881-b315-a0fed4275b1a",
   "metadata": {},
   "source": [
    "Some of the commonly used libraries used by Data Scientists include:\n",
    "1. TensorFlow\n",
    "2. Numpy.\n",
    "3. SciPy.\n",
    "4. pandas.\n",
    "5. Matplotlib."
   ]
  },
  {
   "cell_type": "markdown",
   "id": "72a542b8-74b1-4bf6-8efa-ee7bd88e78e7",
   "metadata": {},
   "source": [
    "|DATA SCIENCE TOOLS|\n",
    "|---|\n",
    "|Tenserflow|\n",
    "|SAS|\n",
    "|Apache|\n"
   ]
  },
  {
   "cell_type": "markdown",
   "id": "8b6a3bd8-635a-4708-9365-08ff078434a8",
   "metadata": {},
   "source": [
    "### Below are a few examples of evaluating arithmetic expressions in Python"
   ]
  },
  {
   "cell_type": "code",
   "execution_count": 11,
   "id": "3147a7f9-0e80-4b93-9c8d-ae782632b2f9",
   "metadata": {},
   "outputs": [
    {
     "data": {
      "text/plain": [
       "17"
      ]
     },
     "execution_count": 11,
     "metadata": {},
     "output_type": "execute_result"
    }
   ],
   "source": [
    "#this is a common arithmetic example to multiply and then add integers\n",
    "(3*4)+5"
   ]
  },
  {
   "cell_type": "code",
   "execution_count": 12,
   "id": "58646e83-e5e5-4de4-b6d7-669c85da3026",
   "metadata": {},
   "outputs": [
    {
     "data": {
      "text/plain": [
       "3.3333333333333335"
      ]
     },
     "execution_count": 12,
     "metadata": {},
     "output_type": "execute_result"
    }
   ],
   "source": [
    "#This will convert 200 minutes to hours by diving by 60\n",
    "200/60"
   ]
  },
  {
   "cell_type": "markdown",
   "id": "5fd4e05f-34b9-4e19-be2a-5c0c7b03d99f",
   "metadata": {},
   "source": [
    "_Objective_\n",
    "* List popular languages for Data Science\n",
    "* List popular libraries for Data Science\n",
    "* List of Well known Data Science Tools\n",
    "* How to Provide comments in the cell"
   ]
  },
  {
   "cell_type": "markdown",
   "id": "e7caa20c-af96-496f-be43-1debd646eeff",
   "metadata": {},
   "source": [
    "## Author\n",
    "Vishnu Chiluveri"
   ]
  },
  {
   "cell_type": "code",
   "execution_count": null,
   "id": "a9cae586-3e41-430f-b965-36395e4d0e2e",
   "metadata": {},
   "outputs": [],
   "source": []
  }
 ],
 "metadata": {
  "kernelspec": {
   "display_name": "Python 3 (ipykernel)",
   "language": "python",
   "name": "python3"
  },
  "language_info": {
   "codemirror_mode": {
    "name": "ipython",
    "version": 3
   },
   "file_extension": ".py",
   "mimetype": "text/x-python",
   "name": "python",
   "nbconvert_exporter": "python",
   "pygments_lexer": "ipython3",
   "version": "3.11.7"
  }
 },
 "nbformat": 4,
 "nbformat_minor": 5
}
